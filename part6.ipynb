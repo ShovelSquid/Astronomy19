{
  "nbformat": 4,
  "nbformat_minor": 0,
  "metadata": {
    "colab": {
      "provenance": []
    },
    "kernelspec": {
      "name": "python3",
      "display_name": "Python 3"
    },
    "language_info": {
      "name": "python"
    }
  },
  "cells": [
    {
      "cell_type": "markdown",
      "source": [
        "Created by Kaelen Cook\n",
        "\n",
        "Jan 2024\n",
        "\n",
        "(I always have the same heading)\n",
        "\n",
        "\n",
        "\n",
        "Okidokey, time to make some noise. Today's episode is going to be about sin and cos, specifically in relation to x. We're going to prove how much nicer it is to use numpy than to not.\n",
        "\n",
        "Let's get started, shall we?\n"
      ],
      "metadata": {
        "id": "ZzMQFs77KMOP"
      }
    },
    {
      "cell_type": "markdown",
      "source": [
        "This first cells are about calculating sin(x) and cos(x)"
      ],
      "metadata": {
        "id": "b8_IQe-rK1vf"
      }
    },
    {
      "cell_type": "code",
      "execution_count": 1,
      "metadata": {
        "id": "TbLecoADKH7y"
      },
      "outputs": [],
      "source": [
        "# I am not calculating sin of x by hand, I am not a math genius by any means.\n",
        "# So instead I am going to use my ancient family technique:\n",
        "import math as m\n",
        "\n",
        "# this function returns sin of input x\n",
        "def my_sin(x):\n",
        "    return m.sin(x)     # sin(x)"
      ]
    },
    {
      "cell_type": "code",
      "source": [
        "import math as m        # this makes life very easy\n",
        "\n",
        "# this function returns cos of input x\n",
        "def my_cos(x):\n",
        "    return m.cos(x)     # cos(x)"
      ],
      "metadata": {
        "id": "HSabSMSmcCQF"
      },
      "execution_count": 2,
      "outputs": []
    },
    {
      "cell_type": "markdown",
      "source": [
        "This next cell is about getting a range of x between 0 and 2π\n",
        "and plugging each of these values into sin and cos of x respectively\n",
        "to generate a table of values. Then, once the dust has settled, we will present that table of values in the next cell."
      ],
      "metadata": {
        "id": "VZlhDEhDfRCx"
      }
    },
    {
      "cell_type": "code",
      "source": [
        "import math as m\n",
        "\n",
        "# we are generating a list of 1000 entries for x between 0 and 2π\n",
        "inc = (2*m.pi)/1000     # value to increment for 1000 entries\n",
        "i = 0       # increment index\n",
        "x_list = []      # list to store all x values\n",
        "for each in range(0, 1000):         # might get off by one error\n",
        "    x_list.append(i)\n",
        "    i += inc\n",
        "\n",
        "# calculate sin and cos for all x and add them all to list\n",
        "final_list = []\n",
        "for x in x_list:\n",
        "    # calculate sin and cos of x\n",
        "    a = my_sin(x)\n",
        "    b = my_cos(x)\n",
        "    # then add to list\n",
        "    final_list.append([x, a, b])    # list of lists, nested lists, my sweet\n",
        "\n",
        "# now print first 10 of all these values in columns\n",
        "print(\"x,   sin(x),  cos(x)\")\n",
        "for x in range(0, 10):\n",
        "    # x is the index to choose which value of list, then 0-2 pick x, sin, or cos\n",
        "    print(f\"{final_list[x][0]},  {final_list[x][1]},  {final_list[x][2]}\")"
      ],
      "metadata": {
        "colab": {
          "base_uri": "https://localhost:8080/"
        },
        "id": "_TFSiKa6ddlG",
        "outputId": "ee8dd101-378c-4ab4-84ab-292904490a79"
      },
      "execution_count": 6,
      "outputs": [
        {
          "output_type": "stream",
          "name": "stdout",
          "text": [
            "x,   sin(x),  cos(x)\n",
            "0,  0.0,  1.0\n",
            "0.006283185307179587,  0.006283143965558951,  0.9999802608561371\n",
            "0.012566370614359173,  0.012566039883352607,  0.9999210442038161\n",
            "0.01884955592153876,  0.018848439715408175,  0.999822352380809\n",
            "0.025132741228718346,  0.02513009544333748,  0.9996841892832999\n",
            "0.031415926535897934,  0.03141075907812829,  0.9995065603657316\n",
            "0.03769911184307752,  0.03769018266993454,  0.9992894726405892\n",
            "0.0439822971502571,  0.0439681183178649,  0.9990329346781247\n",
            "0.050265482457436686,  0.05024431817976955,  0.9987369566060175\n",
            "0.05654866776461627,  0.05651853448202452,  0.998401550108975\n"
          ]
        }
      ]
    }
  ]
}